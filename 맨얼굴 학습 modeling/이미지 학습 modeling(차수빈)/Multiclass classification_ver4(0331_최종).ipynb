{
 "cells": [
  {
   "cell_type": "code",
   "execution_count": 1,
   "id": "f74642df",
   "metadata": {},
   "outputs": [],
   "source": [
    "# 필요한 모듈 import하기\n",
    "\n",
    "from tensorflow import keras\n",
    "from tensorflow.keras import layers\n",
    "from tensorflow.keras import activations\n",
    "from tensorflow.keras.applications import EfficientNetB0\n",
    "\n",
    "from glob import glob\n",
    "from pprint import pprint\n",
    "\n",
    "import os\n",
    "import math\n",
    "import cv2\n",
    "import numpy as np\n",
    "import pandas as pd\n",
    "import matplotlib.pyplot as plt\n",
    "import tensorflow as tf\n",
    "import tensorflow_hub as hub"
   ]
  },
  {
   "cell_type": "code",
   "execution_count": 2,
   "id": "10192dde",
   "metadata": {
    "scrolled": true
   },
   "outputs": [
    {
     "data": {
      "image/png": "[encoded data removed]",
      "text/plain": [
       "<Figure size 720x360 with 1 Axes>"
      ]
     },
     "metadata": {
      "needs_background": "light"
     },
     "output_type": "display_data"
    }
   ],
   "source": [
    "csv_path = './feelings_skfold2.csv'\n",
    "df = pd.read_csv(csv_path)\n",
    "np.unique(df['emotion'])\n",
    "\n",
    "value_counts = df['emotion'].value_counts().sort_index()\n",
    "plt.figure(figsize=(10, 5))\n",
    "plt.bar(range(len(value_counts)), value_counts.values)\n",
    "plt.xticks(range(len(value_counts)), value_counts.index.values)\n",
    "plt.tight_layout()\n",
    "plt.show()"
   ]
  },
  {
   "cell_type": "markdown",
   "id": "c3c8512a",
   "metadata": {},
   "source": [
    "# 1. Model 정의하기"
   ]
  },
  {
   "cell_type": "markdown",
   "id": "40dbbd39",
   "metadata": {},
   "source": [
    "* binary crossentropy : binary 다중 분류 손실 함수 -> label들이 독립적일 때 사용함\n",
    "* categorical_crossentropy : 다중 분류 손실 함수, 출력값이 one-hot encoding된 결과로 나옴\n",
    "* (정답에만 1으로 표시하고, 나머지는 0으로)\n",
    "* 각 샘플이 정확히 하나의 클래스에 속하는 경우 사용한다.\n",
    "* sparse_categorical_crossentropy : 다중 분류 손실 함수, one - hot - encoding을 하지 않고 정수 형태로 넣어줌, 한 샘플에 여러 클래스가 있거나 label이 soft 확률일 경우 사용"
   ]
  },
  {
   "cell_type": "markdown",
   "id": "b98f6d39",
   "metadata": {},
   "source": [
    "* softmax\n",
    "- 출력은 0 ~ 1 사이의 실수\n",
    "- 출력을 확률로 해석할 수 있음\n",
    "- 출력의 총합은 1이다."
   ]
  },
  {
   "cell_type": "markdown",
   "id": "ae9940d2",
   "metadata": {},
   "source": [
    "# Tensorflow Hub"
   ]
  },
  {
   "cell_type": "markdown",
   "id": "4deb41cd",
   "metadata": {},
   "source": [
    "* https://tfhub.dev/\n",
    "* 조정 및 배포 가능한 학습된 머신러닝 모델의 저장소\n",
    "* 단 몇 줄의 코드만으로 BERT 및 CNN과 같은 학습된 모델을 재사용할 수 있음"
   ]
  },
  {
   "cell_type": "code",
   "execution_count": 3,
   "id": "d447063b",
   "metadata": {
    "scrolled": true
   },
   "outputs": [
    {
     "name": "stdout",
     "output_type": "stream",
     "text": [
      "Model: \"sequential\"\n",
      "_________________________________________________________________\n",
      " Layer (type)                Output Shape              Param #   \n",
      "=================================================================\n",
      " keras_layer (KerasLayer)    (None, 1280)              5919312   \n",
      "                                                                 \n",
      " dense (Dense)               (None, 7)                 8967      \n",
      "                                                                 \n",
      "=================================================================\n",
      "Total params: 5,928,279\n",
      "Trainable params: 5,867,671\n",
      "Non-trainable params: 60,608\n",
      "_________________________________________________________________\n"
     ]
    },
    {
     "name": "stderr",
     "output_type": "stream",
     "text": [
      "c:\\users\\doroc\\appdata\\local\\programs\\python\\python38\\lib\\site-packages\\keras\\optimizer_v2\\adam.py:105: UserWarning: The `lr` argument is deprecated, use `learning_rate` instead.\n",
      "  super(Adam, self).__init__(name, **kwargs)\n"
     ]
    }
   ],
   "source": [
    "model = tf.keras.Sequential([\n",
    "    hub.KerasLayer(\"https://tfhub.dev/google/imagenet/efficientnet_v2_imagenet1k_b0/feature_vector/2\",\n",
    "                  trainable = True),\n",
    "    tf.keras.layers.Dense(7,activation = 'softmax')\n",
    "])\n",
    "model.build([None,48,48,3])\n",
    "\n",
    "adam = keras.optimizers.Adam(lr = 0.0001)\n",
    "model.compile(\n",
    "    optimizer = adam,\n",
    "    loss = 'sparse_categorical_crossentropy',\n",
    "    metrics = 'accuracy'\n",
    ")\n",
    "model.summary()"
   ]
  },
  {
   "cell_type": "code",
   "execution_count": 4,
   "id": "5794511c",
   "metadata": {},
   "outputs": [],
   "source": [
    "import albumentations as A\n",
    "\n",
    "# Albumentation class 생성하기\n",
    "class Augmentation:\n",
    "    def __init__(self, size, mode='train'):\n",
    "        if mode == 'train':\n",
    "            self.transform = A.Compose([\n",
    "                # 수평 전환\n",
    "                A.HorizontalFlip(p=0.5),\n",
    "                # 이동, 크기, 회전을 설정\n",
    "                A.ShiftScaleRotate(\n",
    "                    p=0.5,\n",
    "                    shift_limit=0.05,\n",
    "                    scale_limit=0.05,\n",
    "                    rotate_limit=15\n",
    "                ),\n",
    "                # 구멍을 dropout 하게됨\n",
    "                A.CoarseDropout(\n",
    "                    p=0.5,\n",
    "                    max_holes=8, # 최대 8개의 구멍을 dropout 시킴\n",
    "                    max_height=int(0.1 * size),\n",
    "                    max_width=int(0.1 * size)\n",
    "                ),\n",
    "                A.RandomBrightnessContrast(p=0.2) # 밝기 대비\n",
    "            ])\n",
    "    \n",
    "    def __call__(self, **kwargs): # callback 함수: 클래스의 객체를 생성한 이후 객체를 호출할 떄 자동으로 실행되는 함수\n",
    "        if self.transform:\n",
    "            augmented = self.transform(**kwargs) # **kwargs : 가변 인수(파라미터의 개수에 제한을 두지 않겠다.)\n",
    "            img = augmented['image'] # 증폭된 이미지\n",
    "            return img "
   ]
  },
  {
   "cell_type": "code",
   "execution_count": 5,
   "id": "b159bc93",
   "metadata": {
    "scrolled": true
   },
   "outputs": [
    {
     "name": "stdout",
     "output_type": "stream",
     "text": [
      "array(['angry', 'disgust', 'fear', 'happy', 'neutral', 'sad', 'surprise'],\n",
      "      dtype=object)\n",
      "{'angry': 0,\n",
      " 'disgust': 1,\n",
      " 'fear': 2,\n",
      " 'happy': 3,\n",
      " 'neutral': 4,\n",
      " 'sad': 5,\n",
      " 'surprise': 6}\n"
     ]
    }
   ],
   "source": [
    "csv_path = './feelings_skfold2.csv'\n",
    "\n",
    "LABEL_INT_DICT = np.unique(pd.read_csv(csv_path)['emotion'])\n",
    "pprint(LABEL_INT_DICT) # 데이터의 타입과 형태 등도 같이 보여준다.(조금 더 예쁘게 출력해준다?)\n",
    "LABEL_STR_DICT = {k:v for v,k in enumerate(LABEL_INT_DICT)}\n",
    "pprint(LABEL_STR_DICT)# Keras의 Sequential model 이용"
   ]
  },
  {
   "cell_type": "code",
   "execution_count": 6,
   "id": "f189b98d",
   "metadata": {},
   "outputs": [],
   "source": [
    "class DataGenerator(keras.utils.Sequence):\n",
    "    def __init__(self, batch_size, csv_path, fold, image_size, mode='train', shuffle=True):\n",
    "        self.batch_size = batch_size\n",
    "        self.fold = fold\n",
    "        self.image_size = image_size\n",
    "        self.mode = mode\n",
    "        self.shuffle = shuffle\n",
    "        \n",
    "        self.df = pd.read_csv(csv_path)\n",
    "        \n",
    "        if self.mode == 'train':\n",
    "            self.df = self.df[self.df['fold'] != self.fold]\n",
    "        elif self.mode == 'val':\n",
    "            self.df = self.df[self.df['fold'] == self.fold]\n",
    "            \n",
    "        self.transform = Augmentation(image_size, mode)\n",
    "        \n",
    "        self.on_epoch_end()\n",
    "\n",
    "        \n",
    "    def on_epoch_end(self):\n",
    "        if self.shuffle: # shuffle = True라면(df 앞의 인덱스를 지워주는 기능\n",
    "            self.df = self.df.sample(frac=1).reset_index(drop=True)\n",
    "    # len()\n",
    "    def __len__(self):\n",
    "            return math.ceil(len(self.df) / self.batch_size)\n",
    "\n",
    "    def __getitem__(self, idx):\n",
    "        strt = idx * self.batch_size\n",
    "        fin = (idx + 1) * self.batch_size\n",
    "        data = self.df.iloc[strt:fin]\n",
    "        batch_x, batch_y = self.get_data(data)\n",
    "        return np.array(batch_x), np.array(batch_y)\n",
    "        \n",
    "    def get_data(self, data):\n",
    "        batch_x = []\n",
    "        batch_y = []\n",
    "        \n",
    "        for _, r in data.iterrows():\n",
    "            file_name = r['file_name']\n",
    "            img_folder = r['emotion'] # type = np.str_\n",
    "\n",
    "            image = cv2.imread(f'datasets/{img_folder}/{file_name}.jpg',cv2.IMREAD_GRAYSCALE)\n",
    "            image = cv2.cvtColor(image, cv2.COLOR_BGR2RGB)\n",
    "            image = cv2.resize(image, (self.image_size, self.image_size))\n",
    "            \n",
    "            if self.mode == 'train':\n",
    "                image = image.astype('uint8') # 정수로 형변환\n",
    "                image = self.transform(image=image)\n",
    "\n",
    "            image = image.astype('float32') # 실수로 다시 형변환         \n",
    "            image = image / 255.\n",
    "\n",
    "            \n",
    "            emotion = str(img_folder)\n",
    "            emotion = LABEL_STR_DICT[emotion]\n",
    "            \n",
    "            batch_x.append(image)\n",
    "            batch_y.append(emotion)\n",
    "        \n",
    "        return batch_x, batch_y\n",
    "    "
   ]
  },
  {
   "cell_type": "code",
   "execution_count": 7,
   "id": "70752f06",
   "metadata": {},
   "outputs": [],
   "source": [
    "csv_path = './feelings_skfold2.csv'\n",
    "\n",
    "train_generator = DataGenerator(\n",
    "    batch_size = 128,\n",
    "    csv_path = csv_path,\n",
    "    fold = 1,\n",
    "    image_size = 48,\n",
    "    mode = 'train',\n",
    "    shuffle = True\n",
    ")\n",
    "\n",
    "valid_generator = DataGenerator(\n",
    "    batch_size = 128,\n",
    "    csv_path = csv_path,\n",
    "    fold = 1, \n",
    "    image_size = 48,\n",
    "    mode = 'val',\n",
    "    shuffle = True\n",
    ")"
   ]
  },
  {
   "cell_type": "code",
   "execution_count": 8,
   "id": "b3c5201d",
   "metadata": {},
   "outputs": [
    {
     "name": "stdout",
     "output_type": "stream",
     "text": [
      "Epoch 1/50\n",
      "111/111 [==============================] - 87s 716ms/step - loss: 2.0564 - accuracy: 0.1756 - val_loss: 1.8919 - val_accuracy: 0.2477\n",
      "Epoch 2/50\n",
      "111/111 [==============================] - 83s 747ms/step - loss: 1.9213 - accuracy: 0.2389 - val_loss: 1.7646 - val_accuracy: 0.3205\n",
      "Epoch 3/50\n",
      "111/111 [==============================] - 84s 754ms/step - loss: 1.8254 - accuracy: 0.2872 - val_loss: 1.6619 - val_accuracy: 0.3654\n",
      "Epoch 4/50\n",
      "111/111 [==============================] - 83s 752ms/step - loss: 1.7541 - accuracy: 0.3172 - val_loss: 1.5787 - val_accuracy: 0.4027\n",
      "Epoch 5/50\n",
      "111/111 [==============================] - 83s 746ms/step - loss: 1.6830 - accuracy: 0.3555 - val_loss: 1.5130 - val_accuracy: 0.4179\n",
      "Epoch 6/50\n",
      "111/111 [==============================] - 88s 793ms/step - loss: 1.6169 - accuracy: 0.3890 - val_loss: 1.4587 - val_accuracy: 0.4393\n",
      "Epoch 7/50\n",
      "111/111 [==============================] - 85s 769ms/step - loss: 1.5685 - accuracy: 0.4077 - val_loss: 1.4155 - val_accuracy: 0.4602\n",
      "Epoch 8/50\n",
      "111/111 [==============================] - 82s 739ms/step - loss: 1.5124 - accuracy: 0.4348 - val_loss: 1.3755 - val_accuracy: 0.4712\n",
      "Epoch 9/50\n",
      "111/111 [==============================] - 87s 785ms/step - loss: 1.4549 - accuracy: 0.4567 - val_loss: 1.3369 - val_accuracy: 0.4932\n",
      "Epoch 10/50\n",
      "111/111 [==============================] - 85s 762ms/step - loss: 1.4141 - accuracy: 0.4717 - val_loss: 1.3092 - val_accuracy: 0.5065\n",
      "Epoch 11/50\n",
      "111/111 [==============================] - 83s 748ms/step - loss: 1.3860 - accuracy: 0.4841 - val_loss: 1.2793 - val_accuracy: 0.5155\n",
      "Epoch 12/50\n",
      "111/111 [==============================] - 87s 784ms/step - loss: 1.3474 - accuracy: 0.4997 - val_loss: 1.2584 - val_accuracy: 0.5262\n",
      "Epoch 13/50\n",
      "111/111 [==============================] - 84s 755ms/step - loss: 1.3048 - accuracy: 0.5103 - val_loss: 1.2401 - val_accuracy: 0.5302\n",
      "Epoch 14/50\n",
      "111/111 [==============================] - 87s 781ms/step - loss: 1.2764 - accuracy: 0.5229 - val_loss: 1.2170 - val_accuracy: 0.5403\n",
      "Epoch 15/50\n",
      "111/111 [==============================] - 84s 756ms/step - loss: 1.2432 - accuracy: 0.5403 - val_loss: 1.2012 - val_accuracy: 0.5533\n",
      "Epoch 16/50\n",
      "111/111 [==============================] - 88s 796ms/step - loss: 1.2194 - accuracy: 0.5443 - val_loss: 1.1928 - val_accuracy: 0.5607\n",
      "Epoch 17/50\n",
      "111/111 [==============================] - 83s 751ms/step - loss: 1.1938 - accuracy: 0.5562 - val_loss: 1.1673 - val_accuracy: 0.5688\n",
      "Epoch 18/50\n",
      "111/111 [==============================] - 87s 788ms/step - loss: 1.1614 - accuracy: 0.5712 - val_loss: 1.1675 - val_accuracy: 0.5683\n",
      "Epoch 19/50\n",
      "111/111 [==============================] - 86s 777ms/step - loss: 1.1352 - accuracy: 0.5799 - val_loss: 1.1609 - val_accuracy: 0.5751\n",
      "Epoch 20/50\n",
      "111/111 [==============================] - 83s 751ms/step - loss: 1.1164 - accuracy: 0.5845 - val_loss: 1.1563 - val_accuracy: 0.5759\n",
      "Epoch 21/50\n",
      "111/111 [==============================] - 89s 800ms/step - loss: 1.0953 - accuracy: 0.5942 - val_loss: 1.1507 - val_accuracy: 0.5776\n",
      "Epoch 22/50\n",
      "111/111 [==============================] - 85s 766ms/step - loss: 1.0564 - accuracy: 0.6085 - val_loss: 1.1373 - val_accuracy: 0.5861\n",
      "Epoch 23/50\n",
      "111/111 [==============================] - 86s 779ms/step - loss: 1.0371 - accuracy: 0.6203 - val_loss: 1.1292 - val_accuracy: 0.5971\n",
      "Epoch 24/50\n",
      "111/111 [==============================] - 87s 787ms/step - loss: 1.0152 - accuracy: 0.6273 - val_loss: 1.1233 - val_accuracy: 0.6005\n",
      "Epoch 25/50\n",
      "111/111 [==============================] - 84s 754ms/step - loss: 0.9933 - accuracy: 0.6352 - val_loss: 1.1287 - val_accuracy: 0.5990\n",
      "Epoch 26/50\n",
      "111/111 [==============================] - 88s 792ms/step - loss: 0.9711 - accuracy: 0.6451 - val_loss: 1.1244 - val_accuracy: 0.5968\n",
      "Epoch 27/50\n",
      "111/111 [==============================] - 84s 756ms/step - loss: 0.9407 - accuracy: 0.6566 - val_loss: 1.1385 - val_accuracy: 0.5971\n",
      "Epoch 28/50\n",
      "111/111 [==============================] - 86s 771ms/step - loss: 0.9220 - accuracy: 0.6626 - val_loss: 1.1312 - val_accuracy: 0.6038\n",
      "Epoch 29/50\n",
      "111/111 [==============================] - 87s 785ms/step - loss: 0.8991 - accuracy: 0.6709 - val_loss: 1.1337 - val_accuracy: 0.6075\n",
      "Epoch 30/50\n",
      "111/111 [==============================] - 84s 757ms/step - loss: 0.8600 - accuracy: 0.6867 - val_loss: 1.1420 - val_accuracy: 0.6140\n",
      "Epoch 31/50\n",
      "111/111 [==============================] - 87s 786ms/step - loss: 0.8544 - accuracy: 0.6850 - val_loss: 1.1490 - val_accuracy: 0.6185\n",
      "Epoch 32/50\n",
      "111/111 [==============================] - 84s 756ms/step - loss: 0.8123 - accuracy: 0.7028 - val_loss: 1.1578 - val_accuracy: 0.6137\n",
      "Epoch 33/50\n",
      "111/111 [==============================] - 88s 797ms/step - loss: 0.7997 - accuracy: 0.7083 - val_loss: 1.1593 - val_accuracy: 0.6134\n",
      "Epoch 34/50\n",
      "111/111 [==============================] - 87s 785ms/step - loss: 0.7708 - accuracy: 0.7193 - val_loss: 1.1706 - val_accuracy: 0.6140\n",
      "Epoch 35/50\n",
      "111/111 [==============================] - 83s 752ms/step - loss: 0.7493 - accuracy: 0.7274 - val_loss: 1.1734 - val_accuracy: 0.6129\n",
      "Epoch 36/50\n",
      "111/111 [==============================] - 88s 797ms/step - loss: 0.7283 - accuracy: 0.7375 - val_loss: 1.1773 - val_accuracy: 0.6098\n",
      "Epoch 37/50\n",
      "111/111 [==============================] - 85s 766ms/step - loss: 0.7071 - accuracy: 0.7438 - val_loss: 1.1910 - val_accuracy: 0.6112\n",
      "Epoch 38/50\n",
      "111/111 [==============================] - 84s 757ms/step - loss: 0.6856 - accuracy: 0.7495 - val_loss: 1.2142 - val_accuracy: 0.6089\n",
      "Epoch 39/50\n",
      "111/111 [==============================] - 88s 792ms/step - loss: 0.6653 - accuracy: 0.7624 - val_loss: 1.2327 - val_accuracy: 0.6131\n",
      "Epoch 40/50\n",
      "111/111 [==============================] - 83s 751ms/step - loss: 0.6392 - accuracy: 0.7705 - val_loss: 1.2352 - val_accuracy: 0.6146\n",
      "Epoch 41/50\n",
      "111/111 [==============================] - 91s 817ms/step - loss: 0.6168 - accuracy: 0.7806 - val_loss: 1.2438 - val_accuracy: 0.6205\n",
      "Epoch 42/50\n",
      "111/111 [==============================] - 84s 758ms/step - loss: 0.5882 - accuracy: 0.7906 - val_loss: 1.2721 - val_accuracy: 0.6120\n",
      "Epoch 43/50\n",
      "111/111 [==============================] - 88s 793ms/step - loss: 0.5785 - accuracy: 0.7895 - val_loss: 1.2794 - val_accuracy: 0.6129\n",
      "Epoch 44/50\n",
      "111/111 [==============================] - 86s 775ms/step - loss: 0.5675 - accuracy: 0.7976 - val_loss: 1.2854 - val_accuracy: 0.6188\n",
      "Epoch 45/50\n",
      "111/111 [==============================] - 83s 746ms/step - loss: 0.5428 - accuracy: 0.8077 - val_loss: 1.3089 - val_accuracy: 0.6148\n",
      "Epoch 46/50\n",
      "111/111 [==============================] - 88s 797ms/step - loss: 0.5296 - accuracy: 0.8105 - val_loss: 1.3378 - val_accuracy: 0.6100\n",
      "Epoch 47/50\n",
      "111/111 [==============================] - 85s 765ms/step - loss: 0.5159 - accuracy: 0.8178 - val_loss: 1.3640 - val_accuracy: 0.6078\n",
      "Epoch 48/50\n",
      "111/111 [==============================] - 84s 757ms/step - loss: 0.4953 - accuracy: 0.8257 - val_loss: 1.3346 - val_accuracy: 0.6160\n",
      "Epoch 49/50\n",
      "111/111 [==============================] - 87s 780ms/step - loss: 0.4820 - accuracy: 0.8319 - val_loss: 1.3562 - val_accuracy: 0.6120\n",
      "Epoch 50/50\n",
      "111/111 [==============================] - 89s 806ms/step - loss: 0.4620 - accuracy: 0.8388 - val_loss: 1.3748 - val_accuracy: 0.6160\n"
     ]
    }
   ],
   "source": [
    "history = model.fit(\n",
    "    train_generator,\n",
    "    validation_data = valid_generator,\n",
    "    epochs = 50,\n",
    "    verbose = 1\n",
    ")"
   ]
  },
  {
   "cell_type": "code",
   "execution_count": 9,
   "id": "f20d72e7",
   "metadata": {},
   "outputs": [
    {
     "data": {
      "image/png": "[encoded data removed]",
      "text/plain": [
       "<Figure size 1800x720 with 2 Axes>"
      ]
     },
     "metadata": {
      "needs_background": "light"
     },
     "output_type": "display_data"
    }
   ],
   "source": [
    "history = history.history\n",
    "\n",
    "plt.figure(figsize=(25, 10))\n",
    "plt.subplot(1, 2, 1)\n",
    "plt.plot(history['loss'], label='train')\n",
    "plt.plot(history['val_loss'], label='val')\n",
    "plt.legend()\n",
    "plt.xlabel('epoch')\n",
    "plt.ylabel('loss')\n",
    "plt.title(\"Loss\")\n",
    "\n",
    "plt.subplot(1, 2, 2)\n",
    "plt.plot(history['accuracy'], label='train')\n",
    "plt.plot(history['val_accuracy'], label='val')\n",
    "plt.legend()\n",
    "plt.xlabel('epoch')\n",
    "plt.ylabel('accuracy')\n",
    "plt.title(\"Accuracy\")\n",
    "plt.show()"
   ]
  },
  {
   "cell_type": "code",
   "execution_count": null,
   "id": "1267e015",
   "metadata": {},
   "outputs": [],
   "source": []
  }
 ],
 "metadata": {
  "kernelspec": {
   "display_name": "Python 3 (ipykernel)",
   "language": "python",
   "name": "python3"
  },
  "language_info": {
   "codemirror_mode": {
    "name": "ipython",
    "version": 3
   },
   "file_extension": ".py",
   "mimetype": "text/x-python",
   "name": "python",
   "nbconvert_exporter": "python",
   "pygments_lexer": "ipython3",
   "version": "3.8.9"
  }
 },
 "nbformat": 4,
 "nbformat_minor": 5
}
